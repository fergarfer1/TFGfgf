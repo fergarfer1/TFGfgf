{
 "cells": [
  {
   "cell_type": "code",
   "execution_count": 1,
   "metadata": {},
   "outputs": [],
   "source": [
    "# imports\n",
    "import cv2 as cv\n",
    "import numpy as np\n",
    "import os"
   ]
  },
  {
   "cell_type": "code",
   "execution_count": 2,
   "metadata": {},
   "outputs": [
    {
     "name": "stdout",
     "output_type": "stream",
     "text": [
      "[[[ 60 255 255]]]\n"
     ]
    }
   ],
   "source": [
    "green = np.uint8([[[0,255,0 ]]])\n",
    "hsv_green = cv.cvtColor(green,cv.COLOR_BGR2HSV)\n",
    "print( hsv_green )"
   ]
  },
  {
   "cell_type": "code",
   "execution_count": 40,
   "metadata": {},
   "outputs": [],
   "source": [
    "img = cv.imread('hojas/1/888.png')\n",
    "\n",
    "# Convert BGR to HSV\n",
    "hsv = cv.cvtColor(img,cv.COLOR_BGR2HSV)\n",
    "# Selección de los colores\n",
    "lower_green = np.array([30,25,25])\n",
    "upper_green = np.array([85,255,255])\n",
    "# Threshold\n",
    "mask = cv.inRange(hsv, lower_green, upper_green)\n",
    "# Bitwise-AND mask and original image\n",
    "res = cv.bitwise_and(img,img, mask= mask)\n",
    "\n",
    "cv.imshow('original',img)\n",
    "cv.imshow('bw',mask)\n",
    "cv.imshow('res',res)\n",
    "cv.waitKey(0)\n",
    "cv.destroyAllWindows()"
   ]
  },
  {
   "cell_type": "code",
   "execution_count": 41,
   "metadata": {},
   "outputs": [],
   "source": [
    "# Ruta de las imágenes\n",
    "hoja1 = r'hojas/1'\n",
    "hoja2 = r'hojas/2'\n",
    "\n",
    "# Bucle para las imágenes de 1 hoja\n",
    "i=0\n",
    "while len(os.listdir('hojas/1_mod') ) < 617:\n",
    "    if os.path.isfile('hojas/1/'+str(i)+'.png'):\n",
    "        img = cv.imread(hoja1 + '/' + str(i) + '.png')\n",
    "        hsv = cv.cvtColor(img,cv.COLOR_BGR2HSV)\n",
    "        # Selección de los colores\n",
    "        lower_green = np.array([30,25,25])\n",
    "        upper_green = np.array([85,255,255])\n",
    "        # Threshold\n",
    "        mask = cv.inRange(hsv, lower_green, upper_green)\n",
    "        # Bitwise-AND mask and original image\n",
    "        res = cv.bitwise_and(img,img, mask= mask)\n",
    "        # Guardar imagen\n",
    "        cv.imwrite('hojas/1_mod/' + str(i) + '.png', res) \n",
    "        i+=1\n",
    "    else:\n",
    "        i+=1\n",
    "# Bucle para las imágenes de 1 hoja\n",
    "i=0\n",
    "while len(os.listdir('hojas/2_mod') ) < 617:\n",
    "    if os.path.isfile('hojas/2/'+str(i)+'.png'):\n",
    "        img = cv.imread(hoja2 + '/' + str(i) + '.png')\n",
    "        hsv = cv.cvtColor(img,cv.COLOR_BGR2HSV)\n",
    "        # Selección de los colores\n",
    "        lower_green = np.array([30,25,25])\n",
    "        upper_green = np.array([85,255,255])\n",
    "        # Threshold\n",
    "        mask = cv.inRange(hsv, lower_green, upper_green)\n",
    "        # Bitwise-AND mask and original image\n",
    "        res = cv.bitwise_and(img,img, mask= mask)\n",
    "        # Guardar imagen\n",
    "        cv.imwrite('hojas/2_mod/' + str(i) + '.png', res) \n",
    "        i+=1\n",
    "    else:\n",
    "        i+=1"
   ]
  }
 ],
 "metadata": {
  "interpreter": {
   "hash": "11938c6bc6919ae2720b4d5011047913343b08a43b18698fd82dedb0d4417594"
  },
  "kernelspec": {
   "display_name": "Python 3.9.0 64-bit",
   "language": "python",
   "name": "python3"
  },
  "language_info": {
   "codemirror_mode": {
    "name": "ipython",
    "version": 3
   },
   "file_extension": ".py",
   "mimetype": "text/x-python",
   "name": "python",
   "nbconvert_exporter": "python",
   "pygments_lexer": "ipython3",
   "version": "3.9.0"
  },
  "orig_nbformat": 4
 },
 "nbformat": 4,
 "nbformat_minor": 2
}
